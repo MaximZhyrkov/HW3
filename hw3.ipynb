{
 "cells": [
  {
   "cell_type": "markdown",
   "metadata": {},
   "source": [
    "# Домашнее задание 3\n",
    "\n",
    "## Сбор данных из интернета и генерация текстов\n",
    "\n",
    "В этом домашнем задании вам предстоит: \n",
    "1. выбрать свой источник структурированных данных (прогноз погоды, курс акций, счет спортивных мероприятий, или что-нибудь еще) \n",
    "2. научиться извлекать данные из с выбранной веб-страницы\n",
    "3. научиться генерировать текст по шаблонам"
   ]
  },
  {
   "cell_type": "markdown",
   "metadata": {},
   "source": [
    "## Часть 1\n",
    "\n",
    "Выберете источник данных, который вам симпатичен. По умолчанию, предлагаем использовать данные о погоде в Москве: \n",
    "https://www.gismeteo.ru/weather-moscow-4368/. Извлеките из html-кода страницы температуру сегодня, уровень осадков и скорость ветра."
   ]
  },
  {
   "cell_type": "code",
   "execution_count": 94,
   "metadata": {},
   "outputs": [],
   "source": [
    "import urllib\n",
    "from bs4 import BeautifulSoup"
   ]
  },
  {
   "cell_type": "code",
   "execution_count": 95,
   "metadata": {},
   "outputs": [],
   "source": [
    "from urllib.request import urlopen"
   ]
  },
  {
   "cell_type": "code",
   "execution_count": 96,
   "metadata": {
    "collapsed": true
   },
   "outputs": [
    {
     "name": "stderr",
     "output_type": "stream",
     "text": [
      "C:\\Anaconda\\lib\\site-packages\\bs4\\__init__.py:181: UserWarning: No parser was explicitly specified, so I'm using the best available HTML parser for this system (\"lxml\"). This usually isn't a problem, but if you run this code on another system, or in a different virtual environment, it may use a different parser and behave differently.\n",
      "\n",
      "The code that caused this warning is on line 193 of the file C:\\Anaconda\\lib\\runpy.py. To get rid of this warning, change code that looks like this:\n",
      "\n",
      " BeautifulSoup([your markup])\n",
      "\n",
      "to this:\n",
      "\n",
      " BeautifulSoup([your markup], \"lxml\")\n",
      "\n",
      "  markup_type=markup_type))\n"
     ]
    }
   ],
   "source": [
    "page_to_parse = urlopen('https://www.gismeteo.ru/weather-moscow-4368/now')\n",
    "sp = BeautifulSoup(page_to_parse)"
   ]
  },
  {
   "cell_type": "code",
   "execution_count": 97,
   "metadata": {},
   "outputs": [],
   "source": [
    "temp_data_raw = sp.findAll(attrs={'class' : 'nowvalue__text_l'})[0].get_text()\n",
    "temp_data = temp_data_raw[:temp_data_raw.index(',')]\n",
    "\n",
    "falls_info = sp.findAll(attrs={'class' : 'now__desc'})[0].get_text()\n",
    "\n",
    "wind_value = sp.findAll(attrs={'class' : 'nowinfo__value'})[0].get_text()\n",
    "\n",
    "pressure_data = sp.findAll(attrs={'class' : 'nowinfo__value'})[1].get_text()\n",
    "\n",
    "humidity_data = sp.findAll(attrs={'class' : 'nowinfo__value'})[2].get_text()"
   ]
  },
  {
   "cell_type": "markdown",
   "metadata": {},
   "source": [
    "## Часть 2\n",
    "Запрограммируйте шаблон, описывающие температуру, уровень осадков и скорость ветра сегодня. Например,\n",
    "\"Температура сегодня составляет X градусов\", где Х – излеченное выше число. Сгенерируйте таким образом описание погоды сегодня. Учтите, величина X влияет на грамматическое число, использованное в единицах измерения (\"двадцать градусов\", но \"двадцать один градус\"). Используйте бибилиотеку utg или дополнительные функции pymorphy2"
   ]
  },
  {
   "cell_type": "code",
   "execution_count": 98,
   "metadata": {},
   "outputs": [],
   "source": [
    "import pymorphy2\n",
    "morph = pymorphy2.MorphAnalyzer()"
   ]
  },
  {
   "cell_type": "code",
   "execution_count": 99,
   "metadata": {},
   "outputs": [],
   "source": [
    "temp_treater = morph.parse('градус')[0]\n",
    "temp_wording = temp_treater.make_agree_with_number(int(temp_data)).word\n",
    "\n",
    "wind_treater = morph.parse('метр')[0]\n",
    "wind_wording = wind_treater.make_agree_with_number(int(wind_value)).word\n",
    "\n",
    "pressure_treater = morph.parse('миллиметр')[0]\n",
    "pressure_wording = pressure_treater.make_agree_with_number(int(pressure_data)).word\n",
    "\n",
    "humidity_treater = morph.parse('процент')[0]\n",
    "humidity_wording = humidity_treater.make_agree_with_number(int(humidity_data)).word"
   ]
  },
  {
   "cell_type": "code",
   "execution_count": 100,
   "metadata": {},
   "outputs": [
    {
     "name": "stdout",
     "output_type": "stream",
     "text": [
      "Сейчас в Москве +2 градуса, пасмурно.\n",
      "Скорость ветра 1 метр в секунду.\n",
      "Давление 743 миллиметра ртутного столба, влажность 92 процента.\n"
     ]
    }
   ],
   "source": [
    "print('Сейчас в Москве' + ' ' + temp_data + ' ' + temp_wording + ', ' + str(falls_info).lower() + '.')\n",
    "print('Скорость ветра' + ' ' + wind_value + ' ' + wind_wording + ' в секунду.')\n",
    "print('Давление' + ' ' + pressure_data + ' ' + pressure_wording + ' ртутного столба, влажность' + ' ' +\n",
    "      humidity_data + ' ' + humidity_wording + '.')"
   ]
  },
  {
   "cell_type": "markdown",
   "metadata": {
    "collapsed": true
   },
   "source": [
    "## Часть 3 (необязательная)\n",
    "Соберите данные не только за сегодняшний, но и за вчерашний день, и напишите шаблоны, которые сравнивают вчерашние и сегодняшние показатели (например, \"сегодня похолодало на Х градусов по сравнению со вчера\")."
   ]
  }
 ],
 "metadata": {
  "kernelspec": {
   "display_name": "Python 3",
   "language": "python",
   "name": "python3"
  },
  "language_info": {
   "codemirror_mode": {
    "name": "ipython",
    "version": 3
   },
   "file_extension": ".py",
   "mimetype": "text/x-python",
   "name": "python",
   "nbconvert_exporter": "python",
   "pygments_lexer": "ipython3",
   "version": "3.6.0"
  }
 },
 "nbformat": 4,
 "nbformat_minor": 2
}
